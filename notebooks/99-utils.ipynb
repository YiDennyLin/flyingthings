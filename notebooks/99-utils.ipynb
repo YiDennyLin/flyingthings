{
 "cells": [
  {
   "cell_type": "markdown",
   "id": "dffae60b-81fe-4c2d-b93d-7d0abbb8cdb1",
   "metadata": {
    "tags": []
   },
   "source": [
    "# Published pre-trained model\n",
    "\n",
    "Publish the pre-trained model for comparrisons or other uses"
   ]
  },
  {
   "cell_type": "code",
   "execution_count": null,
   "id": "da53b61e-81f8-4f34-915f-7ed1d48d2270",
   "metadata": {},
   "outputs": [],
   "source": [
    "%cd /opt/app-root/src/\n",
    "\n",
    "# run detect on images to dowload the model if not already present\n",
    "!yolo predict model=yolov8n.pt source=datasets/training/valid/images exist_ok=True"
   ]
  },
  {
   "cell_type": "code",
   "execution_count": null,
   "id": "6825843f-e250-4981-ab6e-f5b8b7f67f89",
   "metadata": {},
   "outputs": [],
   "source": [
    "import os\n",
    "import urllib3\n",
    "from urllib3.exceptions import InsecureRequestWarning\n",
    "from minio import Minio\n",
    "from minio.commonconfig import Tags\n",
    "\n",
    "# Disable SSL verification warning\n",
    "urllib3.disable_warnings(InsecureRequestWarning)\n",
    "\n",
    "# MinIO server endpoint and access credentials\n",
    "endpoint_str = os.environ.get('AWS_S3_ENDPOINT')\n",
    "minio_endpoint = endpoint_str.lstrip('https://')\n",
    "access_key = os.environ.get('AWS_ACCESS_KEY_ID')\n",
    "secret_key = os.environ.get('AWS_SECRET_ACCESS_KEY')\n",
    "\n",
    "# MinIO bucket information\n",
    "bucket_name = 'flyingthings'\n",
    "file_path = 'yolov8n.pt'\n",
    "object_name = 'model_pretrained.pt'\n",
    "\n",
    "\n",
    "# Initialize MinIO client with SSL verification disabled\n",
    "client = Minio(minio_endpoint, access_key=access_key, secret_key=secret_key, secure=True, http_client=urllib3.PoolManager(cert_reqs='CERT_NONE'))\n",
    "file_exists = False\n",
    "try:\n",
    "    # Get object information.\n",
    "    result = client.stat_object(bucket_name, object_name)\n",
    "    print(\n",
    "        \"last-modified: {0}, size: {1}\".format(\n",
    "            result.last_modified, result.size,\n",
    "        ),\n",
    "    )\n",
    "    file_exists = True\n",
    "except:\n",
    "    file_exists = False\n",
    "    \n",
    "# Upload the file and set tags\n",
    "if not file_exists:\n",
    "    client.fput_object(bucket_name, object_name, file_path)\n",
    "    print(f\"File '{object_name}' uploaded to bucket '{bucket_name}'\")\n",
    "\n",
    "    # Upload the new file\n",
    "    client.fput_object(bucket_name, object_name, file_path)\n",
    "\n"
   ]
  },
  {
   "cell_type": "markdown",
   "id": "a6fce20e-30d8-4d6f-a04d-5bdeb3d14af4",
   "metadata": {},
   "source": [
    "# Setup\n",
    "\n",
    "Install dependencies and check PyTorch and GPU."
   ]
  },
  {
   "cell_type": "code",
   "execution_count": null,
   "id": "d294f7b1-bcd4-42f0-9937-0fa601def66b",
   "metadata": {},
   "outputs": [],
   "source": [
    "print(\"setting up dependencies......\")\n",
    "!pip install ultralytics --quiet\n",
    "print(\"**** setup complete ****\")"
   ]
  },
  {
   "cell_type": "markdown",
   "id": "2ab218c2-de1c-4855-a5d8-70cfc32861b4",
   "metadata": {},
   "source": [
    "# Pull latest pre-trained and custom models\n",
    "\n",
    "Download the pre-trained and custom models to this environment"
   ]
  },
  {
   "cell_type": "code",
   "execution_count": null,
   "id": "a440da8f-4fe0-41c7-b8ba-65854607c0a3",
   "metadata": {},
   "outputs": [],
   "source": [
    "%cd /opt/app-root/src\n",
    "\n",
    "!pip install minio\n",
    "import os\n",
    "import minio\n",
    "import urllib3\n",
    "\n",
    "# Disable SSL certificate verification\n",
    "urllib3.disable_warnings(urllib3.exceptions.InsecureRequestWarning)\n",
    "\n",
    "# Set up MinIO client with insecure HTTPS\n",
    "endpoint_str = os.environ.get('AWS_S3_ENDPOINT')\n",
    "minio_endpoint = endpoint_str.lstrip('https://')\n",
    "access_key = os.environ.get('AWS_ACCESS_KEY_ID')\n",
    "secret_key = os.environ.get('AWS_SECRET_ACCESS_KEY')\n",
    "minio_client = minio.Minio(\n",
    "    endpoint=minio_endpoint,\n",
    "    access_key=access_key,\n",
    "    secret_key=secret_key,\n",
    "    secure=True,\n",
    "    http_client=urllib3.PoolManager(cert_reqs='CERT_NONE', assert_hostname=False)\n",
    ")\n",
    "\n",
    "# Set the bucket name and file name\n",
    "bucket_name = os.environ.get('AWS_S3_BUCKET')\n",
    "pretrained_name = 'model_pretrained.pt'\n",
    "custom_name = 'model_custom.pt'\n",
    "\n",
    "# Download the file\n",
    "minio_client.fget_object(bucket_name, pretrained_name, pretrained_name)\n",
    "print(f\"The file '{pretrained_name}' has been downloaded successfully.\")\n",
    "\n",
    "minio_client.fget_object(bucket_name, custom_name, custom_name)\n",
    "print(f\"The file '{custom_name}' has been downloaded successfully.\")\n"
   ]
  },
  {
   "cell_type": "markdown",
   "id": "4340a661-8e69-4c15-b731-b39d8a72ab3c",
   "metadata": {},
   "source": [
    "# Infer with pretrained model\n",
    "Run object detection with the pre-trained model"
   ]
  },
  {
   "cell_type": "code",
   "execution_count": null,
   "id": "8bef2006-d110-4d0f-a217-c9fbda8c1f18",
   "metadata": {},
   "outputs": [],
   "source": [
    "%cd /opt/app-root/src/\n",
    "\n",
    "# run detect on images to dowload the model if not already present\n",
    "!yolo predict model=model_pretrained.pt source=datasets/training/valid/images exist_ok=True"
   ]
  },
  {
   "cell_type": "markdown",
   "id": "66b87414-40fd-4497-9daa-adab69c4ce1f",
   "metadata": {},
   "source": [
    "# Show images\n",
    "Show the bounding box images generated from last inferrence run"
   ]
  },
  {
   "cell_type": "code",
   "execution_count": null,
   "id": "f0a30182-21f4-431e-b1c9-6380c2507822",
   "metadata": {},
   "outputs": [],
   "source": [
    "import os\n",
    "import matplotlib.pyplot as plt\n",
    "import matplotlib.image as mpimg\n",
    "from IPython.display import display, HTML\n",
    "\n",
    "print(\"Please wait...\")\n",
    "# Set the directory path where the image files are located\n",
    "directory = 'runs/detect/predict'\n",
    "\n",
    "# Get all image files in the directory\n",
    "image_files = [file for file in os.listdir(directory) if file.endswith(('.jpg', '.jpeg', '.png'))]\n",
    "\n",
    "# Create subplots for displaying the images\n",
    "num_images = len(image_files)\n",
    "num_rows = (num_images - 1) // 3 + 1\n",
    "fig, axes = plt.subplots(num_rows, 3, figsize=(12, num_rows*4))\n",
    "\n",
    "# Generate links for each image\n",
    "for i, file in enumerate(image_files):\n",
    "    image_path = os.path.join(directory, file)\n",
    "    img = mpimg.imread(image_path)\n",
    "    ax = axes[i // 3, i % 3]  # Adjust indexing for 3 columns\n",
    "    ax.imshow(img)\n",
    "    ax.axis('off')\n",
    "\n",
    "# Adjust the layout and display the plot\n",
    "plt.tight_layout()\n",
    "plt.show()\n"
   ]
  },
  {
   "cell_type": "markdown",
   "id": "4455a0c6-1eb3-49ea-9b9a-2fd7d0d64522",
   "metadata": {},
   "source": [
    "# Infer with custom model\n",
    "Run object detection with the custom trained model"
   ]
  },
  {
   "cell_type": "code",
   "execution_count": null,
   "id": "5255f008-1c81-4326-bf93-f577d7e59723",
   "metadata": {},
   "outputs": [],
   "source": [
    "%cd /opt/app-root/src/\n",
    "\n",
    "# run detect on images to dowload the model if not already present\n",
    "!yolo predict model=model_custom.pt source=datasets/training/valid/images exist_ok=True"
   ]
  },
  {
   "cell_type": "markdown",
   "id": "c445af1c-33a3-4139-ab7d-3e81807c7080",
   "metadata": {},
   "source": [
    "# Show images\n",
    "Show the bounding box images generated from last inferrence run"
   ]
  },
  {
   "cell_type": "code",
   "execution_count": null,
   "id": "d51afe4b-4968-4d14-8c6f-b5560bc4d7ac",
   "metadata": {},
   "outputs": [],
   "source": [
    "import os\n",
    "import matplotlib.pyplot as plt\n",
    "import matplotlib.image as mpimg\n",
    "from IPython.display import display, HTML\n",
    "\n",
    "print(\"Please wait...\")\n",
    "# Set the directory path where the image files are located\n",
    "directory = 'runs/detect/predict'\n",
    "\n",
    "# Get all image files in the directory\n",
    "image_files = [file for file in os.listdir(directory) if file.endswith(('.jpg', '.jpeg', '.png'))]\n",
    "\n",
    "# Create subplots for displaying the images\n",
    "num_images = len(image_files)\n",
    "num_rows = (num_images - 1) // 3 + 1\n",
    "fig, axes = plt.subplots(num_rows, 3, figsize=(12, num_rows*4))\n",
    "\n",
    "# Generate links for each image\n",
    "for i, file in enumerate(image_files):\n",
    "    image_path = os.path.join(directory, file)\n",
    "    img = mpimg.imread(image_path)\n",
    "    ax = axes[i // 3, i % 3]  # Adjust indexing for 3 columns\n",
    "    ax.imshow(img)\n",
    "    ax.axis('off')\n",
    "\n",
    "# Adjust the layout and display the plot\n",
    "plt.tight_layout()\n",
    "plt.show()\n"
   ]
  },
  {
   "cell_type": "code",
   "execution_count": null,
   "id": "9183a709-75fc-41bc-befe-89fc4069ee40",
   "metadata": {},
   "outputs": [],
   "source": []
  }
 ],
 "metadata": {
  "kernelspec": {
   "display_name": "Python 3.9.16",
   "language": "python",
   "name": "python3"
  },
  "language_info": {
   "codemirror_mode": {
    "name": "ipython",
    "version": 3
   },
   "file_extension": ".py",
   "mimetype": "text/x-python",
   "name": "python",
   "nbconvert_exporter": "python",
   "pygments_lexer": "ipython3",
   "version": "3.9.16"
  }
 },
 "nbformat": 4,
 "nbformat_minor": 5
}
