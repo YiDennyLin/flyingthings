{
 "cells": [
  {
   "attachments": {},
   "cell_type": "markdown",
   "id": "4ac0404f-45c3-4ca8-a3fc-e8aa5cdac245",
   "metadata": {
    "tags": []
   },
   "source": [
    "# Setup\n",
    "\n",
    "Install dependencies and check PyTorch and GPU."
   ]
  },
  {
   "cell_type": "code",
   "execution_count": null,
   "id": "4e267bab-22c4-4a07-9d6e-ee7fef46f164",
   "metadata": {},
   "outputs": [],
   "source": [
    "print(\"setting up dependencies......\")\n",
    "!pip install ultralytics --quiet\n",
    "print(\"**** setup complete ****\")"
   ]
  },
  {
   "attachments": {},
   "cell_type": "markdown",
   "id": "2acfcfd9-a169-4ed3-b560-ee30d44462a8",
   "metadata": {
    "tags": []
   },
   "source": [
    "# 1. Inference\n",
    "\n",
    "With yolo setup, we'll do a test inference on some images in our data set. We'll be using the `yolov8n.pt` model to see how well it identifies airplanes and helicopters. You should see mostly failures to detect objects and bad classifications like 'boat' and 'kite'."
   ]
  },
  {
   "cell_type": "code",
   "execution_count": null,
   "id": "1c913159-e33b-486a-a183-64ca4574ae8d",
   "metadata": {},
   "outputs": [],
   "source": [
    "%cd /opt/app-root/src/\n",
    "!yolo predict model=yolov8n.pt source=datasets/training/valid/images exist_ok=True"
   ]
  },
  {
   "attachments": {},
   "cell_type": "markdown",
   "id": "cd4585fa-e8a8-410a-8b08-6f835778d803",
   "metadata": {},
   "source": [
    "## Sample Images\n",
    "Let's see how well the default model did with some random selections. You can run this cell multiple times."
   ]
  },
  {
   "cell_type": "code",
   "execution_count": null,
   "id": "0aab7079-36b4-4f25-b425-9d7957398634",
   "metadata": {},
   "outputs": [],
   "source": [
    "import os\n",
    "import random\n",
    "import matplotlib.pyplot as plt\n",
    "import matplotlib.image as mpimg\n",
    "\n",
    "# Set the directory path where the image files are located\n",
    "directory = 'runs/detect/predict'\n",
    "\n",
    "# Get all image files in the directory\n",
    "image_files = [file for file in os.listdir(directory) if file.endswith(('.jpg', '.jpeg', '.png'))]\n",
    "\n",
    "# Filter image files with \"HELI\" in the title and without\n",
    "heli_files = [file for file in image_files if 'HELI' in file]\n",
    "non_heli_files = [file for file in image_files if 'HELI' not in file]\n",
    "\n",
    "# Select two random files with \"HELI\" in the title\n",
    "selected_heli_files = random.sample(heli_files, 2)\n",
    "\n",
    "# Select two random files without \"HELI\" in the title\n",
    "selected_non_heli_files = random.sample(non_heli_files, 2)\n",
    "\n",
    "# Create subplots for displaying the images\n",
    "fig, axes = plt.subplots(2, 2, figsize=(10, 10))\n",
    "\n",
    "# Display the selected images with \"HELI\" in the title\n",
    "for i, file in enumerate(selected_heli_files):\n",
    "    image_path = os.path.join(directory, file)\n",
    "    img = mpimg.imread(image_path)\n",
    "    ax = axes[i // 2, i % 2]\n",
    "    ax.imshow(img)\n",
    "    ax.axis('off')\n",
    "\n",
    "# Display the selected images without \"HELI\" in the title\n",
    "for i, file in enumerate(selected_non_heli_files):\n",
    "    image_path = os.path.join(directory, file)\n",
    "    img = mpimg.imread(image_path)\n",
    "    ax = axes[(i+2) // 2, (i+2) % 2]\n",
    "    ax.imshow(img)\n",
    "    ax.axis('off')\n",
    "\n",
    "# Adjust the layout and display the plot\n",
    "plt.tight_layout()\n",
    "plt.show()"
   ]
  },
  {
   "attachments": {},
   "cell_type": "markdown",
   "id": "d40c8669-8893-4b04-9b83-4bf2eef10986",
   "metadata": {
    "tags": []
   },
   "source": [
    "# 2. Train\n",
    "Now we'll train a new model with our flying things dataset. The following will be used to kick it off:\n",
    "\n",
    "```shell\n",
    "yolo train model=yolov8n.pt        # use the default yolov8 nano model as a baseline\n",
    "           batch=2                 # batch size determines the amount of concurrent processing\n",
    "           epochs=100              # the number of times through the entire dataset\n",
    "           data=flyingthings.yaml  # file containing the class id and names and the directories for test, train, and valid\n",
    "           exist_ok=True           # allow results to be overwritten\n",
    "```"
   ]
  },
  {
   "cell_type": "code",
   "execution_count": null,
   "id": "fcd0ced7-407c-4e0b-9be2-c0ae41ffff83",
   "metadata": {},
   "outputs": [],
   "source": [
    "%cd /opt/app-root/src/\n",
    "!yolo train model=yolov8n.pt batch=2 epochs=1 data=flyingthings.yaml exist_ok=True"
   ]
  },
  {
   "attachments": {},
   "cell_type": "markdown",
   "id": "97db1a0f-3012-4b01-ae19-72ea29dc443e",
   "metadata": {},
   "source": [
    "## Results\n",
    "Once training is complete, we can look at the results. Here are some graphs indicating accuracy over the the course of epoch runs."
   ]
  },
  {
   "cell_type": "code",
   "execution_count": null,
   "id": "620f760a-0b95-459f-bbc4-cdc3a3e0d4d7",
   "metadata": {},
   "outputs": [],
   "source": [
    "from PIL import Image\n",
    "import IPython.display as display\n",
    "\n",
    "# Set the paths to the image files\n",
    "image_paths = [\n",
    "    'runs/detect/train/results.png',\n",
    "    'runs/detect/train/F1_curve.png',\n",
    "    'runs/detect/train/P_curve.png',\n",
    "    'runs/detect/train/R_curve.png'\n",
    "]\n",
    "\n",
    "# Create a list to hold the Image objects\n",
    "images = []\n",
    "\n",
    "# Open the images and append them to the list\n",
    "for path in image_paths:\n",
    "    image = Image.open(path)\n",
    "    images.append(image)\n",
    "\n",
    "# Display the images\n",
    "for image in images:\n",
    "    display.display(image)"
   ]
  },
  {
   "attachments": {},
   "cell_type": "markdown",
   "id": "60be539d-97f6-457d-9179-bf652cbddfb6",
   "metadata": {},
   "source": [
    "# 3 Inference with new model\n",
    "Now we'll run the same images we used earlier with our new model to see how much better it does at identifying airplanes and helicopters."
   ]
  },
  {
   "cell_type": "code",
   "execution_count": null,
   "id": "37c1d3f2-c044-4c99-bc7e-90f867427454",
   "metadata": {},
   "outputs": [],
   "source": [
    "%cd /opt/app-root/src/\n",
    "!yolo predict model=runs/detect/train/weights/best.pt source=datasets/training/valid/images exist_ok=True"
   ]
  },
  {
   "attachments": {},
   "cell_type": "markdown",
   "id": "dcf39a58-9b97-428b-956d-ec3539e85915",
   "metadata": {},
   "source": [
    "## Sample Images\n",
    "Here are some random images from inferencing with our new model. You can run this cell multiple times."
   ]
  },
  {
   "cell_type": "code",
   "execution_count": null,
   "id": "853a12b9-9eb8-48b5-82ca-fe2d3308456c",
   "metadata": {},
   "outputs": [],
   "source": [
    "import os\n",
    "import random\n",
    "import matplotlib.pyplot as plt\n",
    "import matplotlib.image as mpimg\n",
    "\n",
    "# Set the directory path where the image files are located\n",
    "directory = 'runs/detect/predict'\n",
    "\n",
    "# Get all image files in the directory\n",
    "image_files = [file for file in os.listdir(directory) if file.endswith(('.jpg', '.jpeg', '.png'))]\n",
    "\n",
    "# Filter image files with \"HELI\" in the title and without\n",
    "heli_files = [file for file in image_files if 'HELI' in file]\n",
    "non_heli_files = [file for file in image_files if 'HELI' not in file]\n",
    "\n",
    "# Select two random files with \"HELI\" in the title\n",
    "selected_heli_files = random.sample(heli_files, 2)\n",
    "\n",
    "# Select two random files without \"HELI\" in the title\n",
    "selected_non_heli_files = random.sample(non_heli_files, 2)\n",
    "\n",
    "# Create subplots for displaying the images\n",
    "fig, axes = plt.subplots(2, 2, figsize=(10, 10))\n",
    "\n",
    "# Display the selected images with \"HELI\" in the title\n",
    "for i, file in enumerate(selected_heli_files):\n",
    "    image_path = os.path.join(directory, file)\n",
    "    img = mpimg.imread(image_path)\n",
    "    ax = axes[i // 2, i % 2]\n",
    "    ax.imshow(img)\n",
    "    ax.axis('off')\n",
    "\n",
    "# Display the selected images without \"HELI\" in the title\n",
    "for i, file in enumerate(selected_non_heli_files):\n",
    "    image_path = os.path.join(directory, file)\n",
    "    img = mpimg.imread(image_path)\n",
    "    ax = axes[(i+2) // 2, (i+2) % 2]\n",
    "    ax.imshow(img)\n",
    "    ax.axis('off')\n",
    "\n",
    "# Adjust the layout and display the plot\n",
    "plt.tight_layout()\n",
    "plt.show()"
   ]
  },
  {
   "attachments": {},
   "cell_type": "markdown",
   "id": "91b7bfe0-e9e0-413d-b0d2-407874672c6b",
   "metadata": {},
   "source": [
    "# 4. Save and tag our new model\n",
    "Now that we have a model that's better at predicting helis and planes, we will save it to our bucket. As we improve our model with additional training and other adjustments, they will be saved and versioned allowing us to use previous versions for comparrisons or other analysis. The tag indicates the build number."
   ]
  },
  {
   "cell_type": "code",
   "execution_count": null,
   "id": "e99b52d1-1ca4-4c1d-bad9-258ec12f9780",
   "metadata": {},
   "outputs": [],
   "source": [
    "import os\n",
    "import urllib3\n",
    "from urllib3.exceptions import InsecureRequestWarning\n",
    "from minio import Minio\n",
    "from minio.commonconfig import Tags\n",
    "\n",
    "# Disable SSL verification warning\n",
    "urllib3.disable_warnings(InsecureRequestWarning)\n",
    "\n",
    "# MinIO server endpoint and access credentials\n",
    "endpoint_str = os.environ.get('AWS_S3_ENDPOINT')\n",
    "minio_endpoint = endpoint_str.lstrip('https://')\n",
    "access_key = os.environ.get('AWS_ACCESS_KEY_ID')\n",
    "secret_key = os.environ.get('AWS_SECRET_ACCESS_KEY')\n",
    "\n",
    "# MinIO bucket information\n",
    "bucket_name = 'flyingthings'\n",
    "file_path = 'runs/detect/train/weights/best.pt'\n",
    "object_name = 'flyingthings.pt'\n",
    "tag_key = 'build'\n",
    "\n",
    "\n",
    "# Initialize MinIO client with SSL verification disabled\n",
    "client = Minio(minio_endpoint, access_key=access_key, secret_key=secret_key, secure=True, http_client=urllib3.PoolManager(cert_reqs='CERT_NONE'))\n",
    "file_exists = False\n",
    "try:\n",
    "    # Get object information.\n",
    "    result = client.stat_object(bucket_name, object_name)\n",
    "    print(\n",
    "        \"last-modified: {0}, size: {1}\".format(\n",
    "            result.last_modified, result.size,\n",
    "        ),\n",
    "    )\n",
    "    file_exists = True\n",
    "except:\n",
    "    file_exists = False\n",
    "    \n",
    "# Upload the file and set tags\n",
    "if not file_exists:\n",
    "    client.fput_object(bucket_name, object_name, file_path)\n",
    "    tags = Tags(for_object=True)\n",
    "    tags[tag_key] = '0.0'\n",
    "    client.set_object_tags(bucket_name, object_name, tags)\n",
    "    print(f\"File '{object_name}' uploaded to bucket '{bucket_name}' and tagged with '{tag_key}: 0.0'.\")\n",
    "else:\n",
    "    # Retrieve current tag value for the object\n",
    "    tags = client.get_object_tags(bucket_name, object_name)\n",
    "    if tags is None:\n",
    "        current_value = 0.0\n",
    "    else:\n",
    "        current_value = float(tags.get(tag_key, '0.0'))\n",
    "        \n",
    "    # Upload the new file\n",
    "    client.fput_object(bucket_name, object_name, file_path)\n",
    "\n",
    "    # Increment tag value by 0.1\n",
    "    new_value = current_value + 0.1\n",
    "\n",
    "    # Set updated tag value for the new file\n",
    "    tags = Tags(for_object=True)\n",
    "    tags[tag_key] = str(new_value)\n",
    "    client.set_object_tags(bucket_name, object_name, tags)\n",
    "    print(f\"File '{object_name}' uploaded to bucket '{bucket_name}'.\")\n",
    "    print(f\"Tag '{tag_key}' value updated to '{new_value}'.\")\n",
    "    "
   ]
  },
  {
   "attachments": {},
   "cell_type": "markdown",
   "id": "13dc61c6",
   "metadata": {},
   "source": [
    "# 5. Promote our new model\n",
    "If we decide this model is good enough to promote to the next stage let's save it with a naming convention that will be picked up buy our automation."
   ]
  },
  {
   "cell_type": "code",
   "execution_count": null,
   "id": "bad4ec13-3d48-4a10-b6e6-4b8368e67d6a",
   "metadata": {},
   "outputs": [],
   "source": [
    "import os\n",
    "import urllib3\n",
    "from urllib3.exceptions import InsecureRequestWarning\n",
    "from minio import Minio\n",
    "from minio.commonconfig import Tags\n",
    "\n",
    "# Disable SSL verification warning\n",
    "urllib3.disable_warnings(InsecureRequestWarning)\n",
    "\n",
    "# MinIO server endpoint and access credentials\n",
    "endpoint_str = os.environ.get('AWS_S3_ENDPOINT')\n",
    "minio_endpoint = endpoint_str.lstrip('https://')\n",
    "access_key = os.environ.get('AWS_ACCESS_KEY_ID')\n",
    "secret_key = os.environ.get('AWS_SECRET_ACCESS_KEY')\n",
    "\n",
    "# MinIO bucket information\n",
    "bucket_name = 'flyingthings'\n",
    "file_path = 'runs/detect/train/weights/best.pt'\n",
    "object_name = 'model_custom.pt'\n",
    "tag_key = 'build'\n",
    "\n",
    "\n",
    "# Initialize MinIO client with SSL verification disabled\n",
    "client = Minio(minio_endpoint, access_key=access_key, secret_key=secret_key, secure=True, http_client=urllib3.PoolManager(cert_reqs='CERT_NONE'))\n",
    "file_exists = False\n",
    "try:\n",
    "    # Get object information.\n",
    "    result = client.stat_object(bucket_name, object_name)\n",
    "    print(\n",
    "        \"last-modified: {0}, size: {1}\".format(\n",
    "            result.last_modified, result.size,\n",
    "        ),\n",
    "    )\n",
    "    file_exists = True\n",
    "except:\n",
    "    file_exists = False\n",
    "    \n",
    "# Upload the file and set tags\n",
    "if not file_exists:\n",
    "    client.fput_object(bucket_name, object_name, file_path)\n",
    "    tags = Tags(for_object=True)\n",
    "    tags[tag_key] = '0.0'\n",
    "    client.set_object_tags(bucket_name, object_name, tags)\n",
    "    print(f\"File '{object_name}' uploaded to bucket '{bucket_name}' and tagged with '{tag_key}: 0.0'.\")\n",
    "else:\n",
    "    # Retrieve current tag value for the object\n",
    "    tags = client.get_object_tags(bucket_name, object_name)\n",
    "    if tags is None:\n",
    "        current_value = 0.0\n",
    "    else:\n",
    "        current_value = float(tags.get(tag_key, '0.0'))\n",
    "        \n",
    "    # Upload the new file\n",
    "    client.fput_object(bucket_name, object_name, file_path)\n",
    "\n",
    "    # Increment tag value by 0.1\n",
    "    new_value = current_value + 0.1\n",
    "\n",
    "    # Set updated tag value for the new file\n",
    "    tags = Tags(for_object=True)\n",
    "    tags[tag_key] = str(new_value)\n",
    "    client.set_object_tags(bucket_name, object_name, tags)\n",
    "    print(f\"File '{object_name}' uploaded to bucket '{bucket_name}'.\")\n",
    "    print(f\"Tag '{tag_key}' value updated to '{new_value}'.\")"
   ]
  }
 ],
 "metadata": {
  "kernelspec": {
   "display_name": "Python 3.9.16",
   "language": "python",
   "name": "python3"
  },
  "language_info": {
   "codemirror_mode": {
    "name": "ipython",
    "version": 3
   },
   "file_extension": ".py",
   "mimetype": "text/x-python",
   "name": "python",
   "nbconvert_exporter": "python",
   "pygments_lexer": "ipython3",
   "version": "3.9.16"
  }
 },
 "nbformat": 4,
 "nbformat_minor": 5
}
