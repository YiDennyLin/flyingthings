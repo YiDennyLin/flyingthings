{
 "cells": [
  {
   "cell_type": "markdown",
   "id": "4ac0404f-45c3-4ca8-a3fc-e8aa5cdac245",
   "metadata": {
    "tags": []
   },
   "source": [
    "# Setup\n",
    "\n",
    "Install dependencies and check PyTorch and GPU."
   ]
  },
  {
   "cell_type": "code",
   "execution_count": null,
   "id": "4e267bab-22c4-4a07-9d6e-ee7fef46f164",
   "metadata": {},
   "outputs": [],
   "source": [
    "!pip install ultralytics"
   ]
  },
  {
   "cell_type": "markdown",
   "id": "2acfcfd9-a169-4ed3-b560-ee30d44462a8",
   "metadata": {
    "tags": []
   },
   "source": [
    "# 1. Inference\n",
    "\n",
    "With yolo setup, we'll do a test inference on some images in our data set. We'll be using the `yolov8n.pt` model to see how well it identifies airplanes and helicopters. You should see mostly failures to detect objects and bad classifications like 'boat' and 'kite'."
   ]
  },
  {
   "cell_type": "code",
   "execution_count": null,
   "id": "1c913159-e33b-486a-a183-64ca4574ae8d",
   "metadata": {},
   "outputs": [],
   "source": [
    "%cd /opt/app-root/src/\n",
    "!yolo predict model=yolov8n.pt source=datasets/training/valid/images exist_ok=True"
   ]
  },
  {
   "cell_type": "markdown",
   "id": "cd4585fa-e8a8-410a-8b08-6f835778d803",
   "metadata": {},
   "source": [
    "## Sample Images\n",
    "Let's see how well the default model did with some random selections. You can run this cell multiple times."
   ]
  },
  {
   "cell_type": "code",
   "execution_count": null,
   "id": "0aab7079-36b4-4f25-b425-9d7957398634",
   "metadata": {},
   "outputs": [],
   "source": [
    "import os\n",
    "import random\n",
    "import matplotlib.pyplot as plt\n",
    "import matplotlib.image as mpimg\n",
    "\n",
    "# Directory path containing the images\n",
    "directory_path = \"runs/detect/predict\"\n",
    "\n",
    "# Get a list of all image files in the directory\n",
    "image_files = [f for f in os.listdir(directory_path) if os.path.isfile(os.path.join(directory_path, f))]\n",
    "\n",
    "# Randomly select four images\n",
    "selected_images = random.sample(image_files, 4)\n",
    "\n",
    "# Create a figure with subplots\n",
    "fig, axes = plt.subplots(2, 2, figsize=(10, 10))\n",
    "\n",
    "# Iterate over the selected images and display them\n",
    "for i, image_file in enumerate(selected_images):\n",
    "    # Construct the image file path\n",
    "    image_path = os.path.join(directory_path, image_file)\n",
    "\n",
    "    # Load and display the image\n",
    "    image = mpimg.imread(image_path)\n",
    "    axes[i // 2, i % 2].imshow(image)\n",
    "    axes[i // 2, i % 2].axis(\"off\")\n",
    "\n",
    "# Adjust the layout of subplots\n",
    "plt.tight_layout()\n",
    "\n",
    "# Display the figure\n",
    "plt.show()"
   ]
  },
  {
   "cell_type": "markdown",
   "id": "d40c8669-8893-4b04-9b83-4bf2eef10986",
   "metadata": {
    "tags": []
   },
   "source": [
    "# 2. Train\n",
    "Now we'll train a new model with our flying things dataset. The following will be used to kick it off:\n",
    "\n",
    "```shell\n",
    "yolo train model=yolov8n.pt        # use the default yolov8 nano model as a baseline\n",
    "           batch=2                 # batch size determines the amount of concurrent processing\n",
    "           epochs=100              # the number of times through the entire dataset\n",
    "           data=flyingthings.yaml  # file containing the class id and names and the directories for test, train, and valid\n",
    "           exist_ok=True           # allow results to be overwritten\n",
    "```"
   ]
  },
  {
   "cell_type": "code",
   "execution_count": null,
   "id": "fcd0ced7-407c-4e0b-9be2-c0ae41ffff83",
   "metadata": {},
   "outputs": [],
   "source": [
    "%cd /opt/app-root/src/\n",
    "!yolo train model=yolov8n.pt batch=2 epochs=1 data=flyingthings.yaml exist_ok=True"
   ]
  },
  {
   "cell_type": "markdown",
   "id": "97db1a0f-3012-4b01-ae19-72ea29dc443e",
   "metadata": {},
   "source": [
    "## Results\n",
    "Once training is complete, we can look at the results. Here are some graphs indicating accuracy over the the course of epoch runs."
   ]
  },
  {
   "cell_type": "code",
   "execution_count": null,
   "id": "620f760a-0b95-459f-bbc4-cdc3a3e0d4d7",
   "metadata": {},
   "outputs": [],
   "source": [
    "from PIL import Image\n",
    "import IPython.display as display\n",
    "\n",
    "# Set the paths to the image files\n",
    "image_paths = [\n",
    "    'runs/detect/train/results.png',\n",
    "    'runs/detect/train/F1_curve.png',\n",
    "    'runs/detect/train/P_curve.png',\n",
    "    'runs/detect/train/R_curve.png'\n",
    "]\n",
    "\n",
    "# Create a list to hold the Image objects\n",
    "images = []\n",
    "\n",
    "# Open the images and append them to the list\n",
    "for path in image_paths:\n",
    "    image = Image.open(path)\n",
    "    images.append(image)\n",
    "\n",
    "# Display the images\n",
    "for image in images:\n",
    "    display.display(image)"
   ]
  },
  {
   "cell_type": "markdown",
   "id": "60be539d-97f6-457d-9179-bf652cbddfb6",
   "metadata": {},
   "source": [
    "# 3 Inference with new model\n",
    "Now we'll run the same images we used earlier with our new model to see how much better it does at identifying airplanes and helicopters."
   ]
  },
  {
   "cell_type": "code",
   "execution_count": null,
   "id": "37c1d3f2-c044-4c99-bc7e-90f867427454",
   "metadata": {},
   "outputs": [],
   "source": [
    "%cd /opt/app-root/src/\n",
    "!yolo predict model=runs/detect/train/weights/best.pt source=datasets/training/valid/images exist_ok=True"
   ]
  },
  {
   "cell_type": "markdown",
   "id": "dcf39a58-9b97-428b-956d-ec3539e85915",
   "metadata": {},
   "source": [
    "## Sample Images\n",
    "Here are some random images from inferencing with our new model. You can run this cell multiple times."
   ]
  },
  {
   "cell_type": "code",
   "execution_count": null,
   "id": "853a12b9-9eb8-48b5-82ca-fe2d3308456c",
   "metadata": {},
   "outputs": [],
   "source": [
    "import os\n",
    "import random\n",
    "import matplotlib.pyplot as plt\n",
    "import matplotlib.image as mpimg\n",
    "\n",
    "# Directory path containing the images\n",
    "directory_path = \"runs/detect/predict\"\n",
    "\n",
    "# Get a list of all image files in the directory\n",
    "image_files = [f for f in os.listdir(directory_path) if os.path.isfile(os.path.join(directory_path, f))]\n",
    "\n",
    "# Randomly select four images\n",
    "selected_images = random.sample(image_files, 4)\n",
    "\n",
    "# Create a figure with subplots\n",
    "fig, axes = plt.subplots(2, 2, figsize=(10, 10))\n",
    "\n",
    "# Iterate over the selected images and display them\n",
    "for i, image_file in enumerate(selected_images):\n",
    "    # Construct the image file path\n",
    "    image_path = os.path.join(directory_path, image_file)\n",
    "\n",
    "    # Load and display the image\n",
    "    image = mpimg.imread(image_path)\n",
    "    axes[i // 2, i % 2].imshow(image)\n",
    "    axes[i // 2, i % 2].axis(\"off\")\n",
    "\n",
    "# Adjust the layout of subplots\n",
    "plt.tight_layout()\n",
    "\n",
    "# Display the figure\n",
    "plt.show()"
   ]
  },
  {
   "cell_type": "markdown",
   "id": "91b7bfe0-e9e0-413d-b0d2-407874672c6b",
   "metadata": {},
   "source": [
    "# 4. Save our new model\n",
    "Now that we have a model that's better at predicting helis and planes, we will save it to our bucket. As we improve our model with additional training and other adjustments, they will be saved and versioned allowing us to use previous versions for comparrisons or other analysis."
   ]
  },
  {
   "cell_type": "code",
   "execution_count": null,
   "id": "e99b52d1-1ca4-4c1d-bad9-258ec12f9780",
   "metadata": {},
   "outputs": [],
   "source": [
    "import os\n",
    "import minio\n",
    "import urllib3\n",
    "\n",
    "# Disable SSL certificate verification\n",
    "urllib3.disable_warnings(urllib3.exceptions.InsecureRequestWarning)\n",
    "\n",
    "# Set up MinIO client with insecure HTTPS\n",
    "endpoint_str = os.environ.get('AWS_S3_ENDPOINT')\n",
    "minio_endpoint = endpoint_str.lstrip('https://')\n",
    "access_key = os.environ.get('AWS_ACCESS_KEY_ID')\n",
    "secret_key = os.environ.get('AWS_SECRET_ACCESS_KEY')\n",
    "minio_client = minio.Minio(\n",
    "    endpoint=minio_endpoint,\n",
    "    access_key=access_key,\n",
    "    secret_key=secret_key,\n",
    "    secure=True,\n",
    "    http_client=urllib3.PoolManager(cert_reqs='CERT_NONE', assert_hostname=False)\n",
    ")\n",
    "\n",
    "\n",
    "# Set the bucket name and file path\n",
    "bucket_name = os.environ.get('AWS_S3_BUCKET')\n",
    "file_path = 'runs/detect/train/weights/best.pt'\n",
    "\n",
    "# Set the object name (the name under which the file will be stored in the bucket)\n",
    "object_name = 'flyingthings.pt'\n",
    "\n",
    "# Upload the file\n",
    "minio_client.fput_object(bucket_name, object_name, file_path)\n",
    "\n",
    "print(f\"The file '{object_name}' has been uploaded to the '{bucket_name}' bucket.\")\n"
   ]
  },
  {
   "cell_type": "code",
   "execution_count": null,
   "id": "bad4ec13-3d48-4a10-b6e6-4b8368e67d6a",
   "metadata": {},
   "outputs": [],
   "source": []
  }
 ],
 "metadata": {
  "kernelspec": {
   "display_name": "Python 3.9.16",
   "language": "python",
   "name": "python3"
  },
  "language_info": {
   "codemirror_mode": {
    "name": "ipython",
    "version": 3
   },
   "file_extension": ".py",
   "mimetype": "text/x-python",
   "name": "python",
   "nbconvert_exporter": "python",
   "pygments_lexer": "ipython3",
   "version": "3.9.16"
  }
 },
 "nbformat": 4,
 "nbformat_minor": 5
}
